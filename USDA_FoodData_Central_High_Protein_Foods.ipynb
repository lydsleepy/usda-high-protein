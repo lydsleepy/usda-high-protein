{
  "nbformat": 4,
  "nbformat_minor": 0,
  "metadata": {
    "colab": {
      "provenance": []
    },
    "kernelspec": {
      "name": "python3",
      "display_name": "Python 3"
    },
    "language_info": {
      "name": "python"
    }
  },
  "cells": [
    {
      "cell_type": "markdown",
      "source": [
        "Using the USDA FoodData Central API to compare food categories\n",
        "- Pull 50 items from 5 categories\n"
      ],
      "metadata": {
        "id": "X911Ra9HxdJ1"
      }
    },
    {
      "cell_type": "markdown",
      "source": [
        "data.world link: https://data.world/lydsleepy/usda-nutrition-data"
      ],
      "metadata": {
        "id": "X5V0a8PmbgHO"
      }
    },
    {
      "cell_type": "markdown",
      "source": [
        "First, I'm importing everything I need to collect data with my API, as well as to analyze the data."
      ],
      "metadata": {
        "id": "xv0x948pc4gv"
      }
    },
    {
      "cell_type": "code",
      "source": [
        "# importing everything\n",
        "\n",
        "# for the actual getting data\n",
        "import requests\n",
        "import pandas as pd\n",
        "import time\n",
        "from datetime import datetime\n",
        "\n",
        "# for descriptive statistics and analysis things\n",
        "import matplotlib.pyplot as plt\n",
        "import seaborn as sns"
      ],
      "metadata": {
        "id": "bugAVAhxzc4T"
      },
      "execution_count": null,
      "outputs": []
    },
    {
      "cell_type": "markdown",
      "source": [
        "I requested an API key, then set my key and the base URL as constant variables to use within my code."
      ],
      "metadata": {
        "id": "DQUADjl8dO6d"
      }
    },
    {
      "cell_type": "code",
      "source": [
        "api_key = \"XeQbGEzwfYOQQ5XDA6EL5ZAyuZCcpYeTHv3coBxZ\"\n",
        "base_url = \"https://api.nal.usda.gov/fdc/v1/foods/search\""
      ],
      "metadata": {
        "id": "Ic-B19Xrz2Wi"
      },
      "execution_count": null,
      "outputs": []
    },
    {
      "cell_type": "markdown",
      "source": [
        "Next, I'll define a function to actually fetch the data from USDA FoodData Central. This function will be called in the main function."
      ],
      "metadata": {
        "id": "clYBZvWNXrSW"
      }
    },
    {
      "cell_type": "code",
      "source": [
        "# defining function to fetch food data from USDA FoodData Central API\n",
        "# query is the search term\n",
        "#max_results is max num of food items to return, defaulted to 60\n",
        "def fetch_category(query, max_results=60):\n",
        "  all_foods = []\n",
        "  page_size = 50 # max number of results returned in single request\n",
        "\n",
        "  # dictionary of parameters that will be sent to the api\n",
        "  params = {\n",
        "      'api_key': api_key,\n",
        "      'query': query,\n",
        "      'pageSize': page_size,\n",
        "      # which database to search\n",
        "      # branded is commerical (like cheerios)\n",
        "      # survey is generic (like \"chicken breast, cooked\")\n",
        "      'dataType': ['Branded', 'Survey (FNDDS)']\n",
        "  }\n",
        "\n",
        "  print(f\"Fetching {query} foods...\")\n",
        "\n",
        "  try:\n",
        "    response = requests.get(base_url, params=params)\n",
        "    response.raise_for_status()\n",
        "    # takes text response from api and turns it into python dictionary\n",
        "    data = response.json()\n",
        "\n",
        "    # looks for key called 'foods' in data dictionary\n",
        "    # if it finds it, returns the list / if not, returns empty list\n",
        "    foods = data.get('foods', [])\n",
        "    # adds items in foods to the all_foods list\n",
        "    all_foods.extend(foods[:max_results])\n",
        "    print(f\"Retrieved {len(foods[:max_results])} items\")\n",
        "  except Exception as e:\n",
        "    print(f\"Error fetching {query}: {e}\")\n",
        "  # waits half a second before continuing to not overwhelm api\n",
        "  time.sleep(0.5)\n",
        "  return all_foods"
      ],
      "metadata": {
        "id": "NHO6lc-j0LdX"
      },
      "execution_count": null,
      "outputs": []
    },
    {
      "cell_type": "markdown",
      "source": [
        "This next function will be to extract nutritional information for each food item. This will also be called in the main function."
      ],
      "metadata": {
        "id": "VCCp_7HnXzg5"
      }
    },
    {
      "cell_type": "code",
      "source": [
        "# defining function that extracts nutritional info from food item\n",
        "def extract_nutrients(food_item):\n",
        "  nutrients_dict = {}\n",
        "\n",
        "  nutrients_dict['fdc_id'] = food_item.get('fdcId', '')\n",
        "  # food name / description\n",
        "  nutrients_dict['description'] = food_item.get('description', '')\n",
        "  # like Chobani for yogurt\n",
        "  nutrients_dict['brand_owner'] = food_item.get('brandOwner', 'N/A')\n",
        "  nutrients_dict['data_type'] = food_item.get('dataType', '')\n",
        "  nutrients_dict['food_category'] = food_item.get('foodCategory', 'N/A')\n",
        "\n",
        "  # api will return nutrients as a list of dictionaries\n",
        "  nutrients = food_item.get('foodNutrients', [])\n",
        "\n",
        "  # dictionary\n",
        "  # left side is what the api calls the nutrient\n",
        "  # right side is what we call it in our csv\n",
        "  nutrient_map = {\n",
        "      'Energy': 'calories',\n",
        "      'Protein': 'protein_g',\n",
        "      'Total lipid (fat)': 'fat_g',\n",
        "      'Carbohydrate, by difference': 'carbs_g',\n",
        "      'Sugars, total including NLEA': 'sugar_g',\n",
        "      'Fiber, total dietary': 'fiber_g',\n",
        "      'Sodium, Na': 'sodium_mg',\n",
        "      'Cholesterol': 'cholesterol_mg',\n",
        "      'Fatty acids, total saturated': 'saturated_fat_g'\n",
        "  }\n",
        "\n",
        "  # makes sure every food has those columns (in nutrient_map) even if the\n",
        "  # api didnt provide the value for it\n",
        "  for key in nutrient_map.values():\n",
        "    nutrients_dict[key] = None\n",
        "\n",
        "  # extracts name and number from each nutrient\n",
        "  for nutrient in nutrients:\n",
        "    nutrient_name = nutrient.get('nutrientName', '')\n",
        "    nutrient_value = nutrient.get('value', None)\n",
        "\n",
        "    for search_name, dict_key in nutrient_map.items():\n",
        "      # converts both to lowercase to handle case-insensitive\n",
        "      if search_name.lower() in nutrient_name.lower():\n",
        "        # saves nutrient value using our naming convention\n",
        "        nutrients_dict[dict_key] = nutrient_value\n",
        "        break\n",
        "\n",
        "  return nutrients_dict"
      ],
      "metadata": {
        "id": "czpIEe4p3N3v"
      },
      "execution_count": null,
      "outputs": []
    },
    {
      "cell_type": "markdown",
      "source": [
        "This will be the main function. It will call both of the functions already written and put everything together. This part of the code actually runs something."
      ],
      "metadata": {
        "id": "eKBTDzypX70U"
      }
    },
    {
      "cell_type": "code",
      "source": [
        "# defining main function that will collect the food data\n",
        "def main():\n",
        "  print(\"=\" * 60)\n",
        "  print(\"USDA FoodData Central - Nutrition Data Extractor\")\n",
        "  print(\"=\" * 60)\n",
        "  print()\n",
        "\n",
        "  # high-protein foods ^_^\n",
        "  categories = [\n",
        "      'protein bars',\n",
        "      'greek yogurt',\n",
        "      'chicken breast',\n",
        "      'cottage cheese',\n",
        "      'tuna'\n",
        "  ]\n",
        "\n",
        "  # will store all the extracted nutrient data from all categories\n",
        "  all_food_data = []\n",
        "\n",
        "  # calls the fetch_category function we defined earlier\n",
        "  for category in categories:\n",
        "    foods = fetch_category(category, max_results=50)\n",
        "\n",
        "    for food in foods:\n",
        "      # extracts and organizes nutritional data\n",
        "      # returns clean dictionary w info\n",
        "      # stores it in a clean dictionary\n",
        "      food_data = extract_nutrients(food)\n",
        "      # takes dictionary and adds to master list\n",
        "      all_food_data.append(food_data)\n",
        "\n",
        "  # each dictionary becomes a row, each key becomes a column\n",
        "  df = pd.DataFrame(all_food_data)\n",
        "\n",
        "  # removes rows where calories & protein are both missing\n",
        "  df = df.dropna(subset=['calories', 'protein_g'], how='all')\n",
        "\n",
        "  print()\n",
        "  print(\"=\" * 60)\n",
        "  print(f\"Data collection complete!\")\n",
        "  print(f\"\\tTotal records: {len(df)}\") # number of rows\n",
        "  print(f\"\\tColumns: {len(df.columns)}\") # number of columns\n",
        "  print(\"=\" * 60)\n",
        "  print()\n",
        "\n",
        "  # formats year/month/date_hour/minute/second\n",
        "  timestamp = datetime.now().strftime(\"%Y%m%d_%H%M%S\")\n",
        "  # creates filename\n",
        "  filename_raw = f\"usda_nutrition_data_raw_{timestamp}.csv\"\n",
        "  # index=False means not to include row numbers as a column\n",
        "  df.to_csv(filename_raw, index=False)\n",
        "\n",
        "  print(f\"Raw data saved to: {filename_raw}\")\n",
        "  print()\n",
        "\n",
        "  # protein to calorie ratio !!!!!!\n",
        "  # look into lambda/anonymous functions later they seem interesting\n",
        "  # only create column if both calories and protein exists\n",
        "  if 'calories' in df.columns and 'protein_g' in df.columns:\n",
        "    # df.apply applies a function to each row\n",
        "    df['protein_per_calorie'] = df.apply(\n",
        "      # divides protein by calories, rounding to 3 decimal places\n",
        "      lambda row: round(row['protein_g'] / row['calories'], 3)\n",
        "\n",
        "      # only calculates if calories exists (so we dont divide by 0)\n",
        "      # if calories doesnt exist, set to None\n",
        "      if pd.notna(row['calories']) and pd.notna(row['protein_g']) and row['calories'] > 0\n",
        "      else None,\n",
        "      axis=1\n",
        "    )\n",
        "    print(\"Added protein_per_calorie column\")\n",
        "\n",
        "    filename_processed = f\"usda_nutrition_data_processed_{timestamp}.csv\"\n",
        "    df.to_csv(filename_processed, index=False)\n",
        "    print(f\"Processed data saved to: {filename_processed}\")\n",
        "\n",
        "  # for displaying sample\n",
        "  print()\n",
        "  print(\"Sample of collected data:\")\n",
        "  cols_to_show = ['description', 'calories', 'protein_g', 'carbs_g', 'fat_g']\n",
        "  available_cols = [col for col in cols_to_show if col in df.columns]\n",
        "  # selects only those 5 columns\n",
        "  # .head(10) shows the first 10 rows\n",
        "  print(df[available_cols].head(10))\n",
        "  print()\n",
        "\n",
        "  print(f\"Data saved to: {filename_processed}\")\n",
        "  print()\n",
        "\n",
        "  return df\n",
        "\n",
        "if __name__ == \"__main__\":\n",
        "  df = main()"
      ],
      "metadata": {
        "id": "ktV9zTltKTTT",
        "colab": {
          "base_uri": "https://localhost:8080/"
        },
        "outputId": "b9716e5a-06c7-43b4-8044-f520ffff8243"
      },
      "execution_count": null,
      "outputs": [
        {
          "output_type": "stream",
          "name": "stdout",
          "text": [
            "============================================================\n",
            "USDA FoodData Central - Nutrition Data Extractor\n",
            "============================================================\n",
            "\n",
            "Fetching protein bars foods...\n",
            "Retrieved 50 items\n",
            "Fetching greek yogurt foods...\n",
            "Retrieved 50 items\n",
            "Fetching chicken breast foods...\n",
            "Retrieved 50 items\n",
            "Fetching cottage cheese foods...\n",
            "Retrieved 50 items\n",
            "Fetching tuna foods...\n",
            "Retrieved 50 items\n",
            "\n",
            "============================================================\n",
            "Data collection complete!\n",
            "\tTotal records: 250\n",
            "\tColumns: 14\n",
            "============================================================\n",
            "\n",
            "Raw data saved to: usda_nutrition_data_raw_20251010_033355.csv\n",
            "\n",
            "Added protein_per_calorie column\n",
            "Processed data saved to: usda_nutrition_data_processed_20251010_033355.csv\n",
            "\n",
            "Sample of collected data:\n",
            "                                         description  calories  protein_g  \\\n",
            "0                                       PROTEIN BARS     333.0      37.00   \n",
            "1                                       PROTEIN BARS     367.0      25.00   \n",
            "2                                       PROTEIN BARS     333.0      37.00   \n",
            "3                                       PROTEIN BARS     333.0      37.00   \n",
            "4      Nutrition bar (Snickers Marathon Protein Bar)     415.0      25.00   \n",
            "5  Nutrition bar (South Beach Living High Protein...     412.0      30.34   \n",
            "6                           Nutrition bar (Clif Bar)     346.0      14.71   \n",
            "7               Nutrition bar (Balance Original Bar)     415.0      28.00   \n",
            "8                       Bread, high protein, toasted     269.0      13.30   \n",
            "9                    Textured vegetable protein, dry     366.0      51.10   \n",
            "\n",
            "   carbs_g  fat_g  \n",
            "0    40.70   9.26  \n",
            "1    50.00  10.00  \n",
            "2    40.70   7.41  \n",
            "3    40.70   7.41  \n",
            "4    50.50  12.50  \n",
            "5    38.40  15.17  \n",
            "6    65.44   5.88  \n",
            "7    48.73  12.00  \n",
            "8    48.13   2.42  \n",
            "9    32.90   3.33  \n",
            "\n",
            "Data saved to: usda_nutrition_data_processed_20251010_033355.csv\n",
            "\n"
          ]
        }
      ]
    },
    {
      "cell_type": "markdown",
      "source": [
        "This section can be uncommented to debug the code. It prints all of the column names to check for typos. I had an issue with the calories_to_protein column not showing up so I searched for the calories and protein_g categories in particular."
      ],
      "metadata": {
        "id": "qW-HUGwIYGq3"
      }
    },
    {
      "cell_type": "code",
      "source": [
        "'''\n",
        "# debugging lol\n",
        "\n",
        "df = pd.read_csv('usda_nutrition_data_20251010_031445.csv')\n",
        "\n",
        "# prints all column names\n",
        "print(df.columns.tolist())\n",
        "\n",
        "# checks if calories and protein columns exist\n",
        "print([col for col in df.columns if 'calor' in col.lower()])\n",
        "\n",
        "print([col for col in df.columns if 'protein' in col.lower()])\n",
        "'''"
      ],
      "metadata": {
        "colab": {
          "base_uri": "https://localhost:8080/"
        },
        "id": "_rWXfAT5IxDA",
        "outputId": "085e2d4a-1e0c-4f73-b429-56976e338b6e"
      },
      "execution_count": null,
      "outputs": [
        {
          "output_type": "stream",
          "name": "stdout",
          "text": [
            "['fdc_id', 'description', 'brand_owner', 'data_type', 'food_category', 'calories', 'protein_g', 'fat_g', 'carbs_g', 'sugar_g', 'fiber_g', 'sodium_mg', 'cholesterol_mg', 'saturated_fat_g']\n",
            "['calories']\n",
            "['protein_g']\n"
          ]
        }
      ]
    },
    {
      "cell_type": "markdown",
      "source": [
        "Here, we look at the descriptive statistics of our data."
      ],
      "metadata": {
        "id": "c1ABNlzqYUxA"
      }
    },
    {
      "cell_type": "code",
      "source": [
        "df = pd.read_csv('usda_nutrition_data_processed_20251010_033355.csv')\n",
        "\n",
        "stats = df.describe()\n",
        "print(stats)"
      ],
      "metadata": {
        "colab": {
          "base_uri": "https://localhost:8080/"
        },
        "id": "iaOxb5kIStOl",
        "outputId": "0cb004b3-2288-4b7b-9dbc-f781e5b17a9f"
      },
      "execution_count": null,
      "outputs": [
        {
          "output_type": "stream",
          "name": "stdout",
          "text": [
            "             fdc_id    calories   protein_g      fat_g     carbs_g  sugar_g  \\\n",
            "count  2.500000e+02  250.000000  249.000000  250.00000  250.000000      0.0   \n",
            "mean   2.478958e+06  186.748000   13.783574    7.35580   16.558960      NaN   \n",
            "std    4.263917e+05  118.945114   10.471887    7.13208   21.568383      NaN   \n",
            "min    3.735950e+05   40.000000    0.810000    0.00000    0.000000      NaN   \n",
            "25%    2.216810e+06   97.000000    7.710000    2.23750    3.540000      NaN   \n",
            "50%    2.705639e+06  142.500000   10.600000    4.63000    6.220000      NaN   \n",
            "75%    2.706838e+06  242.250000   17.000000   10.30500   19.855000      NaN   \n",
            "max    2.710745e+06  502.000000   78.130000   40.68000   79.170000      NaN   \n",
            "\n",
            "          fiber_g    sodium_mg  cholesterol_mg  saturated_fat_g  \\\n",
            "count  249.000000   250.000000      250.000000       250.000000   \n",
            "mean     1.316867   313.228000       27.212000         2.317952   \n",
            "std      3.124261   199.104622       30.832086         2.547726   \n",
            "min      0.000000     2.000000        0.000000         0.000000   \n",
            "25%      0.000000   192.750000        5.000000         0.857500   \n",
            "50%      0.100000   330.500000       18.000000         1.925000   \n",
            "75%      1.100000   421.750000       32.750000         2.733000   \n",
            "max     22.500000  1214.000000      167.000000        17.895000   \n",
            "\n",
            "       protein_per_calorie  \n",
            "count           249.000000  \n",
            "mean              0.091072  \n",
            "std               0.055130  \n",
            "min               0.006000  \n",
            "25%               0.043000  \n",
            "50%               0.092000  \n",
            "75%               0.133000  \n",
            "max               0.224000  \n"
          ]
        }
      ]
    },
    {
      "cell_type": "markdown",
      "source": [
        "Next, we will visualize our data."
      ],
      "metadata": {
        "id": "ZFoSZDhmaZqy"
      }
    },
    {
      "cell_type": "code",
      "source": [
        "df_clean = df.dropna(subset=['protein_per_calorie'])\n",
        "\n",
        "top_10 = df_clean.nlargest(10, 'protein_per_calorie')\n",
        "\n",
        "plt.figure(figsize=(12, 6))\n",
        "plt.barh(range(len(top_10)), top_10['protein_per_calorie'], color='skyblue')\n",
        "plt.yticks(range(len(top_10)), top_10['description'].str[:50])  # truncate long names\n",
        "plt.xlabel('Protein per Calorie (g/kcal)', fontsize=12)\n",
        "plt.ylabel('Food Item', fontsize=12)\n",
        "plt.title('Top 10 Most Protein-Efficient Foods', fontsize=14, fontweight='bold')\n",
        "plt.gca().invert_yaxis()  # highest at top\n",
        "plt.tight_layout()\n",
        "plt.show()\n",
        "\n",
        "print(\"\\n These foods provie the most protein per calorie consumed.\")"
      ],
      "metadata": {
        "colab": {
          "base_uri": "https://localhost:8080/",
          "height": 642
        },
        "id": "Y8wQrUq1Veyn",
        "outputId": "358bc468-2d8e-4ef3-ca10-071e994ce464"
      },
      "execution_count": null,
      "outputs": [
        {
          "output_type": "display_data",
          "data": {
            "text/plain": [
              "<Figure size 1200x600 with 1 Axes>"
            ],
            "image/png": "[encoded data removed]"
          },
          "metadata": {}
        },
        {
          "output_type": "stream",
          "name": "stdout",
          "text": [
            "\n",
            " These foods provie the most protein per calorie consumed.\n"
          ]
        }
      ]
    },
    {
      "cell_type": "markdown",
      "source": [
        "**Analysis, Observations, and Insights:**\n",
        "- The most efficient foods in terms of a protein-to-calorie ratio seem to be tuna, followed closely by a nutritional protein powder mix. Canned tuna takes the top spot, which makes sense since most of the fat has been rendered out of the fish by that point. If it is then stored in water, canned tuna becomes an extremely lean source of protein.\n",
        "- The rest of the list is completely taken over by various types of chicken breast. This doesn't surprise me, as chicken breast is also known within the fitness community to be an extremely efficient source of lean protein.\n",
        "\n",
        "\n",
        "Although protein powder is not the most efficient source that we pulled from the data, it is VERY close and an amazing option for those who don't want to eat straight canned tuna. After all, turning canned tuna into food items such as traditional tuna salad will add additional macronutrients and calories that are unaccounted for in this analysis."
      ],
      "metadata": {
        "id": "GWcK_WSOZVD7"
      }
    }
  ]
}